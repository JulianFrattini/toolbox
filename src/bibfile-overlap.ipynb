{
 "cells": [
  {
   "cell_type": "markdown",
   "metadata": {},
   "source": [
    "# Bibtex Overlap Finder\n",
    "\n",
    "For a cumulative thesis, several publications are compiled to one document, which often entails merging the indvidual bibliographies, which may produce overlaps due to similar references being used in multiple publications. This script detects overlaps based on (a) their identifier and (b) their title."
   ]
  },
  {
   "cell_type": "code",
   "execution_count": 18,
   "metadata": {},
   "outputs": [],
   "source": [
    "import re\n",
    "from difflib import SequenceMatcher"
   ]
  },
  {
   "cell_type": "markdown",
   "metadata": {},
   "source": [
    "### Load the References\n",
    "\n",
    "First, load the reference file `references.bib`, which simply contains the content of all individual reference files."
   ]
  },
  {
   "cell_type": "code",
   "execution_count": 19,
   "metadata": {},
   "outputs": [],
   "source": [
    "with open('../data/references.bib', 'r') as file:\n",
    "    rawbib = file.read()"
   ]
  },
  {
   "cell_type": "code",
   "execution_count": 20,
   "metadata": {},
   "outputs": [
    {
     "name": "stdout",
     "output_type": "stream",
     "text": [
      "Found a total of 4 References\n"
     ]
    }
   ],
   "source": [
    "total_references = re.findall(r'\\@', rawbib)\n",
    "print(f'Found a total of {len(total_references)} References')"
   ]
  },
  {
   "cell_type": "markdown",
   "metadata": {},
   "source": [
    "### Overlap identification\n",
    "\n",
    "Define the overlap identification function, which takes an overlap function (by default, just counting exact duplicates) and determines all items within a list that have an overlap according to that function."
   ]
  },
  {
   "cell_type": "code",
   "execution_count": 21,
   "metadata": {},
   "outputs": [],
   "source": [
    "def find_overlap(items: list[str], overlap_fun=(lambda l, i: l.count(i))) -> None:\n",
    "    \"\"\"Idenfities all items that occur more than once in a given list according to an overlap function. The size of the list and all items are printed upon identification.\n",
    "    \n",
    "    attributes:\n",
    "        items -- list of items\n",
    "        overlap_fun -- function counting how often one item overlaps with other items in a list\n",
    "        \n",
    "    \"\"\"\n",
    "    overlap = set([item for item in items if overlap_fun(items, item) > 1])\n",
    "    \n",
    "    print(f'Found {len(overlap)} item{\"\" if len(overlap)==1 else \"s\"} overlapping items in the list:')\n",
    "    for item in overlap:\n",
    "        print(f' - {item}')"
   ]
  },
  {
   "cell_type": "markdown",
   "metadata": {},
   "source": [
    "### (a) Overlapping identifiers\n",
    "\n",
    "First, identify all overlapping identifiers. An identifier is the string by which a bibtex entry is referenced. These duplicated identifiers could either be caused by a duplicate reference or by two different references which use the same identifier."
   ]
  },
  {
   "cell_type": "code",
   "execution_count": 22,
   "metadata": {},
   "outputs": [
    {
     "name": "stdout",
     "output_type": "stream",
     "text": [
      "Found 1 item overlapping items in the list:\n",
      " - femmer2018requirements\n"
     ]
    }
   ],
   "source": [
    "references = re.findall(r'\\@.*{(.*),', rawbib)\n",
    "find_overlap(references)"
   ]
  },
  {
   "cell_type": "markdown",
   "metadata": {},
   "source": [
    "### (b) Overlapping titles\n",
    "\n",
    "Second, identify all overlapping titles. Here, use a different overlap function: instead of counting how often one title appears exactly the same in the set, count how often it appears in a very similar fashion. This accounts for titles that are slightly different (e.g., different punctuation)."
   ]
  },
  {
   "cell_type": "code",
   "execution_count": 23,
   "metadata": {},
   "outputs": [
    {
     "name": "stdout",
     "output_type": "stream",
     "text": [
      "Found 2 items overlapping items in the list:\n",
      " - its the activities, stupid! a new perspective on re quality\n",
      " - it's the activities, stupid! a new perspective on re quality\n"
     ]
    }
   ],
   "source": [
    "def similars(items: list[str], item: str, threshold: float=0.9) -> int:\n",
    "    \"\"\"Count how often an item appears in a list of items with a given similarity threshold\n",
    "\n",
    "    attributes:\n",
    "        items -- list of items\n",
    "        item -- item, against which the similarity is calculated\n",
    "        threshold -- float between 0 and 1 (where 1 is a perfect match); the calculation of the SequenceMatcher ratio between the given item and another candidate must exceed the threshold to be considered a similar\n",
    "\n",
    "    returns: number of items similar to the given item (at least 1 since the item has a perfect match with itself) \"\"\"\n",
    "    \n",
    "    candidates = [candidate for candidate in items if SequenceMatcher(None, item, candidate).ratio()>threshold]\n",
    "    return len(candidates)\n",
    "\n",
    "titles = re.findall(r',\\s*\\n\\s*title\\s*\\=\\s*{(.*)}', rawbib)\n",
    "titles = [title.lower() for title in titles]\n",
    "find_overlap(titles, overlap_fun=similars)"
   ]
  }
 ],
 "metadata": {
  "kernelspec": {
   "display_name": "Python 3.10.0 64-bit",
   "language": "python",
   "name": "python3"
  },
  "language_info": {
   "codemirror_mode": {
    "name": "ipython",
    "version": 3
   },
   "file_extension": ".py",
   "mimetype": "text/x-python",
   "name": "python",
   "nbconvert_exporter": "python",
   "pygments_lexer": "ipython3",
   "version": "3.10.0"
  },
  "orig_nbformat": 4,
  "vscode": {
   "interpreter": {
    "hash": "e162669d235d0b7ee89bfc22eacd9d3460764968d65ce780a3d6293925da891b"
   }
  }
 },
 "nbformat": 4,
 "nbformat_minor": 2
}
