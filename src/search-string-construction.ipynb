{
 "cells": [
  {
   "cell_type": "markdown",
   "metadata": {},
   "source": [
    "# Search String Construction\n",
    "\n",
    "This script generates a search string for a database of academic publications. The search string is based on **concepts**, where a search should be concerned with multiple concepts. Since terminology may be ambiguous, this search string construction considers synonyms for each concept (e.g., \"effort\" might be referenced as \"cost\" in different publications).\n",
    "\n",
    "The example below constructs a search string on the topic of *accuracy* of *effort estimation* for *software*. The string is designed to be executed on the [ACM Digital Library](https://dl.acm.org/search/advanced)."
   ]
  },
  {
   "cell_type": "markdown",
   "metadata": {},
   "source": [
    "### Search fields\n",
    "\n",
    "First, define all fields in which the search terms shall appear. This could be `TITLE-ABS-KEY` or, if the database does not offer this cumulative field (like the [ACM Guide to Computing Literature](https://libraries.acm.org/digital-library/acm-guide-to-computing-literature)), `Title`, `Abstract`, and `Keyword`."
   ]
  },
  {
   "cell_type": "code",
   "execution_count": 11,
   "metadata": {},
   "outputs": [],
   "source": [
    "fields = [\"Title\", \"Abstract\", \"Keyword\"]"
   ]
  },
  {
   "cell_type": "markdown",
   "metadata": {},
   "source": [
    "### Concepts and Synonyms\n",
    "\n",
    "Secondly, identify all **concepts** that need to appear in those fields. Construct **one list of synonyms for each concept**. In this example, the concepts *software*, *effort*, *estimation*, and *accuracy* are required to appear in the previously defined fields."
   ]
  },
  {
   "cell_type": "code",
   "execution_count": 6,
   "metadata": {},
   "outputs": [],
   "source": [
    "terms_synonyms = [\n",
    "    ['software', '\"information system\"'],\n",
    "    ['effort', 'budget', 'cost'],\n",
    "    ['estimat*', 'evaluat*', 'predict*'],\n",
    "    ['precis*', 'accura*']\n",
    "]"
   ]
  },
  {
   "cell_type": "markdown",
   "metadata": {},
   "source": [
    "### String construction\n",
    "\n",
    "Finally, assemble the search string that ensures that *for every concept, at least one synonym is mentioned in at least one of the fields*."
   ]
  },
  {
   "cell_type": "code",
   "execution_count": 10,
   "metadata": {},
   "outputs": [],
   "source": [
    "search_string = \"(\" + \") AND (\".join([\" OR \".join([f'{field}:({\" OR \".join(terms)})' for field in fields]) for terms in terms_synonyms]) + \")\""
   ]
  },
  {
   "cell_type": "code",
   "execution_count": 9,
   "metadata": {},
   "outputs": [
    {
     "name": "stdout",
     "output_type": "stream",
     "text": [
      "(Title:(software OR \"information system\") OR Abstract:(software OR \"information system\") OR Keyword:(software OR \"information system\")) AND (Title:(effort OR budget OR cost) OR Abstract:(effort OR budget OR cost) OR Keyword:(effort OR budget OR cost)) AND (Title:(estimat* OR evaluat* OR predict*) OR Abstract:(estimat* OR evaluat* OR predict*) OR Keyword:(estimat* OR evaluat* OR predict*)) AND (Title:(precis* OR accura*) OR Abstract:(precis* OR accura*) OR Keyword:(precis* OR accura*))\n"
     ]
    }
   ],
   "source": [
    "print(search_string)"
   ]
  }
 ],
 "metadata": {
  "kernelspec": {
   "display_name": "Python 3.10.0 64-bit",
   "language": "python",
   "name": "python3"
  },
  "language_info": {
   "codemirror_mode": {
    "name": "ipython",
    "version": 3
   },
   "file_extension": ".py",
   "mimetype": "text/x-python",
   "name": "python",
   "nbconvert_exporter": "python",
   "pygments_lexer": "ipython3",
   "version": "3.10.0"
  },
  "orig_nbformat": 4,
  "vscode": {
   "interpreter": {
    "hash": "e162669d235d0b7ee89bfc22eacd9d3460764968d65ce780a3d6293925da891b"
   }
  }
 },
 "nbformat": 4,
 "nbformat_minor": 2
}
