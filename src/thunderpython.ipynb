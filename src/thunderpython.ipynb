{
 "cells": [
  {
   "cell_type": "code",
   "execution_count": 10,
   "metadata": {},
   "outputs": [
    {
     "data": {
      "text/plain": [
       "True"
      ]
     },
     "execution_count": 10,
     "metadata": {},
     "output_type": "execute_result"
    }
   ],
   "source": [
    "import os\n",
    "import subprocess\n",
    "\n",
    "import dotenv\n",
    "dotenv.load_dotenv()"
   ]
  },
  {
   "cell_type": "code",
   "execution_count": 11,
   "metadata": {},
   "outputs": [],
   "source": [
    "thunderbird_exe = os.environ['THUNDERBIRD_EXE']\n",
    "source = os.environ['THUNDERBIRD_SOURCE']\n",
    "target = os.environ['THUNDERBIRD_TARGET']\n",
    "subject = 'Email Title'\n",
    "body = 'Kind sir,\\nI hope this mail finds you well.\\nKind regards,\\nJ'"
   ]
  },
  {
   "cell_type": "markdown",
   "metadata": {},
   "source": [
    "The command line arguments can be sourced from [here](http://kb.mozillazine.org/Command_line_arguments_%28Thunderbird%29)."
   ]
  },
  {
   "cell_type": "code",
   "execution_count": 12,
   "metadata": {},
   "outputs": [
    {
     "data": {
      "text/plain": [
       "CompletedProcess(args=\"C:\\\\\\\\Program Files (x86)\\\\\\\\Mozilla Thunderbird\\\\\\\\thunderbird.exe -compose from='julian.frattini@bth.se',to='julian.frattini@alice-dsl.net',subject='Email Title',body='Kind sir,\\nI hope this mail finds you well.\\nKind regards,\\nJ'\", returncode=0)"
      ]
     },
     "execution_count": 12,
     "metadata": {},
     "output_type": "execute_result"
    }
   ],
   "source": [
    "subprocess.run(f\"{thunderbird_exe} -compose from='{source}',to='{target}',subject='{subject}',body='{body}'\")"
   ]
  }
 ],
 "metadata": {
  "kernelspec": {
   "display_name": "Python 3.10.0 ('.venv': venv)",
   "language": "python",
   "name": "python3"
  },
  "language_info": {
   "codemirror_mode": {
    "name": "ipython",
    "version": 3
   },
   "file_extension": ".py",
   "mimetype": "text/x-python",
   "name": "python",
   "nbconvert_exporter": "python",
   "pygments_lexer": "ipython3",
   "version": "3.10.0"
  },
  "orig_nbformat": 4,
  "vscode": {
   "interpreter": {
    "hash": "d80f88767dbdef2e291c4d5b348fdbfddc1490ced894357a6d0d5cacf9531830"
   }
  }
 },
 "nbformat": 4,
 "nbformat_minor": 2
}
